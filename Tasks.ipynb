{
 "cells": [
  {
   "cell_type": "code",
   "execution_count": 126,
   "metadata": {},
   "outputs": [],
   "source": [
    "from pyspark.sql import SparkSession\n",
    "from pyspark.sql.functions import udf, col, count, avg, lit, countDistinct, expr, row_number\n",
    "from pyspark.sql.types import StringType, DoubleType\n",
    "from textblob import TextBlob\n",
    "from pyspark.ml.feature import MinMaxScaler, VectorAssembler\n",
    "from pyspark.sql.window import Window"
   ]
  },
  {
   "cell_type": "code",
   "execution_count": 2,
   "metadata": {},
   "outputs": [
    {
     "name": "stderr",
     "output_type": "stream",
     "text": [
      "23/09/11 20:21:44 WARN Utils: Your hostname, kushal-Latitude-E5440 resolves to a loopback address: 127.0.1.1; using 192.168.1.14 instead (on interface wlp2s0)\n",
      "23/09/11 20:21:44 WARN Utils: Set SPARK_LOCAL_IP if you need to bind to another address\n",
      "Setting default log level to \"WARN\".\n",
      "To adjust logging level use sc.setLogLevel(newLevel). For SparkR, use setLogLevel(newLevel).\n",
      "23/09/11 20:21:45 WARN NativeCodeLoader: Unable to load native-hadoop library for your platform... using builtin-java classes where applicable\n"
     ]
    }
   ],
   "source": [
    "# Initialize a Spark session\n",
    "spark = SparkSession.builder.appName(\"FinalTask\")\\\n",
    "    .config('spark.driver.extraClassPath','/usr/lib/jvm/java-11-openjdk-amd64/lib/postgresql-42.5.0.jar')\\\n",
    "        .getOrCreate()"
   ]
  },
  {
   "cell_type": "code",
   "execution_count": 3,
   "metadata": {},
   "outputs": [],
   "source": [
    "listing_df = spark.read.format('jdbc').options(url='jdbc:postgresql://localhost:5432/Final',driver = 'org.postgresql.Driver', dbtable = 'listing', user='postgres',password='kushal2psg').load()\n",
    "calendar_df = spark.read.format('jdbc').options(url='jdbc:postgresql://localhost:5432/Final',driver = 'org.postgresql.Driver', dbtable = 'calendar', user='postgres',password='kushal2psg').load()\n",
    "reviews_df = spark.read.format('jdbc').options(url='jdbc:postgresql://localhost:5432/Final',driver = 'org.postgresql.Driver', dbtable = 'reviews', user='postgres',password='kushal2psg').load()"
   ]
  },
  {
   "cell_type": "code",
   "execution_count": 4,
   "metadata": {},
   "outputs": [
    {
     "name": "stderr",
     "output_type": "stream",
     "text": [
      "                                                                                \r"
     ]
    },
    {
     "name": "stdout",
     "output_type": "stream",
     "text": [
      "+--------+--------------------+--------------------+--------------------+-----------+--------------------+------------------+------------------+--------------------+-----------------+----------+--------------------+----------+-----+-------+-------------+---------------+------------+---------+--------+-----+-----------------+\n",
      "|      id|         listing_url|                name|               space|  host_name|       host_location|host_response_time|host_response_rate|host_acceptance_rate|host_is_superhost|host_since|              street|      city|state|zipcode|property_type|      room_type|accommodates|bathrooms|bedrooms|price|number_of_reviews|\n",
      "+--------+--------------------+--------------------+--------------------+-----------+--------------------+------------------+------------------+--------------------+-----------------+----------+--------------------+----------+-----+-------+-------------+---------------+------------+---------+--------+-----+-----------------+\n",
      "|12147973|https://www.airbn...|Sunny Bungalow in...|The house has an ...|   Virginia|Boston Massachuse...|               N/A|               N/A|                 N/A|            false|2015-04-15|Birch Street Bost...|    Boston|   MA|   2131|        House|Entire home/apt|           4|      1.5|       2|25000|                0|\n",
      "| 3075044|https://www.airbn...|Charming room in ...|Small but cozy an...|     Andrea|Boston Massachuse...|    within an hour|              100%|                100%|            false|2012-06-07|Pinehurst Street ...|    Boston|   MA|   2131|    Apartment|   Private room|           2|      1.0|       1| 6500|               36|\n",
      "|    6976|https://www.airbn...|Mexican Folk Art ...|Come stay with a ...|       Phil|Boston Massachuse...|within a few hours|              100%|                 88%|             true|2009-05-11|Ardale St. Boston...|    Boston|   MA|   2131|    Apartment|   Private room|           2|      1.0|       1| 6500|               41|\n",
      "| 1436513|https://www.airbn...|Spacious Sunny Be...|Most places you f...|     Meghna|Boston Massachuse...|within a few hours|              100%|                 50%|            false|2013-04-21|Boston MA United ...|    Boston|   MA|   null|        House|   Private room|           4|      1.0|       1| 7500|                1|\n",
      "| 7651065|https://www.airbn...| Come Home to Boston|Clean attractive ...|      Linda|Boston Massachuse...|    within an hour|              100%|                100%|             true|2014-05-11|Durnell Avenue Bo...|    Boston|   MA|   2131|        House|   Private room|           2|      1.5|       1| 7900|               29|\n",
      "|12386020|https://www.airbn...|Private Bedroom +...|Our sunny condo i...|    Deborah|Boston Massachuse...|within a few hours|              100%|                 95%|             true|2016-03-23|Walter Street Bos...|    Boston|   MA|   2131|  Condominium|   Private room|           2|      1.0|       1| 7500|                8|\n",
      "| 5706985|https://www.airbn...|New Lrg Studio ap...|The whole house w...|     Juliet|Milton Massachuse...|    within an hour|               98%|                 96%|            false|2013-05-25|Kittredge Street ...|    Boston|   MA|   2131|    Apartment|Entire home/apt|           3|      1.0|       1|10000|               57|\n",
      "| 2843445|https://www.airbn...|\"Tranquility\" on ...|We provide a bedr...|    Marilyn|Boston Massachuse...|within a few hours|              100%|                100%|             true|2012-08-05|Cornell Street Bo...|    Boston|   MA|   2131|        House|   Private room|           2|      2.0|       1| 7500|               67|\n",
      "|  753446|https://www.airbn...|6 miles away from...|Nice and cozy apa...|       Sami|Boston Massachuse...|    within an hour|              100%|                100%|             true|2012-10-24|Sycamore St Rosli...|Roslindale|   MA|   2131|  Condominium|   Private room|           2|      1.0|       1| 5800|               65|\n",
      "|  849408|https://www.airbn...|Perfect & Practic...|Perfect apartment...|      Damon|Boston Massachuse...|    within an hour|              100%|                100%|             true|2012-12-18|Centre Street Bos...|    Boston|   MA|   2131|    Apartment|Entire home/apt|           5|      1.0|       2|22900|               33|\n",
      "| 5434353|https://www.airbn...|Quiet  Beauty in ...|Large living and ...|    Anthony|Boston Massachuse...|      within a day|               75%|                100%|            false|2013-10-27|Tyndale Street Bo...|    Boston|   MA|   2131|        House|Entire home/apt|           2|      1.5|       2|14500|                7|\n",
      "|  225979|https://www.airbn...|Cozy Room & Fresh...|This is a charmin...|      Duane|Boston Massachuse...|    within an hour|              100%|                 79%|            false|2011-09-18|Augustus Ave Bost...|    Boston|   MA|   2131|    Apartment|   Private room|           1|      0.0|       1| 6000|               70|\n",
      "| 3420384|https://www.airbn...|Convient Safe and...|Extra large studi...|    Cynthia|Boston Massachuse...|within a few hours|              100%|                100%|            false|2011-03-09|Doncaster Street ...|    Boston|   MA|   2131|        House|   Private room|           4|      1.0|       1|16500|                1|\n",
      "| 2583074|https://www.airbn...|Cozy room in a ch...|The room is cozy ...|    Mohamed|Boston Massachuse...|within a few hours|              100%|                 94%|             true|2014-03-17|Cedrus Avenue Bos...|    Boston|   MA|   2131|        Villa|   Private room|           1|      2.5|       1| 4000|               31|\n",
      "|13251243|https://www.airbn...|Arborside Guest C...|Today the cottage...|Carl & Judy|Boston Massachuse...|    within an hour|              100%|                100%|            false|2016-05-28|Weld Street Rosli...|Roslindale|   MA|   2131|        House|Entire home/apt|           3|      1.0|       0|12000|               16|\n",
      "|  225834|https://www.airbn...|Skyline View to B...|After a good nigh...|      Duane|Boston Massachuse...|    within an hour|              100%|                 79%|            false|2011-09-18|Augustus Ave Bost...|    Boston|   MA|   2131|    Apartment|   Private room|           2|      0.0|       1| 7000|               38|\n",
      "| 6400432|https://www.airbn...|Spacious 3 bedroo...|This Cape Cod sty...|      Jesús|Boston Massachuse...|      within a day|              100%|                 63%|            false|2014-10-29|Metropolitan Ave ...|    Boston|   MA|   2131|        House|Entire home/apt|           8|      1.0|       3|15000|               21|\n",
      "| 8097453|https://www.airbn...|Luxury 1BR Boston...|This community of...|       Kara|                  US|within a few hours|               98%|                 55%|            false|2015-03-30|Brookline Avenue ...|    Boston|   MA|   2215|    Apartment|Entire home/apt|           3|      1.0|       1|16900|                1|\n",
      "| 5498472|https://www.airbn...|4BD/3.5BA Perfect...|Our 2400+ square ...|    Colette|Boston Massachuse...|               N/A|               N/A|                 N/A|            false|2015-02-28|Chisholm Lane Bos...|    Boston|   MA|   2131|        House|Entire home/apt|           5|      3.5|       4|17500|                1|\n",
      "|  894539|https://www.airbn...|Private room in h...|Large private roo...|   Jennifer|Boston Massachuse...|    within an hour|              100%|                 92%|             true|2013-01-19|Ashfield Street R...|Roslindale|   MA|   2131|        House|   Private room|           2|      1.5|       1| 9500|               40|\n",
      "+--------+--------------------+--------------------+--------------------+-----------+--------------------+------------------+------------------+--------------------+-----------------+----------+--------------------+----------+-----+-------+-------------+---------------+------------+---------+--------+-----+-----------------+\n",
      "only showing top 20 rows\n",
      "\n"
     ]
    }
   ],
   "source": [
    "listing_df.show()"
   ]
  },
  {
   "cell_type": "code",
   "execution_count": 5,
   "metadata": {},
   "outputs": [
    {
     "name": "stderr",
     "output_type": "stream",
     "text": [
      "[Stage 1:>                                                          (0 + 1) / 1]\r"
     ]
    },
    {
     "name": "stdout",
     "output_type": "stream",
     "text": [
      "+----------+----------+---------+-----+\n",
      "|listing_id|      date|available|price|\n",
      "+----------+----------+---------+-----+\n",
      "|  14857569|2017-07-30|    false| null|\n",
      "|  14857569|2017-07-29|    false| null|\n",
      "|  14857569|2017-07-28|    false| null|\n",
      "|  14857569|2017-07-27|    false| null|\n",
      "|  14857569|2017-07-26|    false| null|\n",
      "|  14857569|2017-07-25|    false| null|\n",
      "|  14857569|2017-07-24|    false| null|\n",
      "|  14857569|2017-07-23|    false| null|\n",
      "|  14857569|2017-07-22|    false| null|\n",
      "|  14857569|2017-07-21|    false| null|\n",
      "|  14857569|2017-07-20|    false| null|\n",
      "|  14857569|2017-07-19|    false| null|\n",
      "|  14857569|2017-07-18|    false| null|\n",
      "|  14857569|2017-07-17|    false| null|\n",
      "|  14857569|2017-07-16|    false| null|\n",
      "|  14857569|2017-07-15|    false| null|\n",
      "|  14857569|2017-07-14|    false| null|\n",
      "|  14857569|2017-07-13|    false| null|\n",
      "|  14857569|2017-07-12|    false| null|\n",
      "|  14857569|2017-07-11|    false| null|\n",
      "+----------+----------+---------+-----+\n",
      "only showing top 20 rows\n",
      "\n"
     ]
    },
    {
     "name": "stderr",
     "output_type": "stream",
     "text": [
      "                                                                                \r"
     ]
    }
   ],
   "source": [
    "calendar_df.show()"
   ]
  },
  {
   "cell_type": "code",
   "execution_count": 6,
   "metadata": {},
   "outputs": [
    {
     "name": "stdout",
     "output_type": "stream",
     "text": [
      "root\n",
      " |-- listing_id: integer (nullable = true)\n",
      " |-- id: integer (nullable = true)\n",
      " |-- date: date (nullable = true)\n",
      " |-- reviewer_id: integer (nullable = true)\n",
      " |-- reviewer_name: string (nullable = true)\n",
      " |-- comments: string (nullable = true)\n",
      "\n"
     ]
    }
   ],
   "source": [
    "reviews_df.printSchema()"
   ]
  },
  {
   "cell_type": "code",
   "execution_count": 7,
   "metadata": {},
   "outputs": [
    {
     "name": "stdout",
     "output_type": "stream",
     "text": [
      "+----------+--------+----------+-----------+-------------+--------------------+\n",
      "|listing_id|      id|      date|reviewer_id|reviewer_name|            comments|\n",
      "+----------+--------+----------+-----------+-------------+--------------------+\n",
      "|   8595650|99096335|2016-09-03|   74253712|        Peter|The area the apar...|\n",
      "|  13449049|79825811|2016-06-14|   10383854|          Ali|The host canceled...|\n",
      "|  13449049|80893606|2016-06-20|    2766707|        Chris|Lilly is a great ...|\n",
      "|  13449049|81472725|2016-06-23|   29910089|         Adam|Lily was extremel...|\n",
      "|   6465075|33541745|2015-05-29|   15813117|       Lauren|Caitlin's apartme...|\n",
      "|   6465075|33953200|2015-06-02|   33202230|       Hyobin|Catlin was very h...|\n",
      "|   6465075|34086562|2015-06-04|   16569306|        Bryan|A++++++ host. May...|\n",
      "|   6465075|35484176|2015-06-19|    5830321|  Joshua Amor|A wonderful and c...|\n",
      "|   6465075|36209339|2015-06-26|   34825134|      Carolyn|Beautiful condo -...|\n",
      "|   6465075|45371507|2015-09-02|   33921455|      Joaquin|I appreciate so m...|\n",
      "|   6465075|48528036|2015-09-27|   40240939|  Marie  Rick|We enjoyed stayin...|\n",
      "|   6465075|49321325|2015-10-03|   39246110|          Tao|It's a nice home,...|\n",
      "|   6465075|50169983|2015-10-10|   39490699|      Melissa|Catlin's apartmen...|\n",
      "|   6465075|50638782|2015-10-13|   42264425|       Lothar|Unfortunately thi...|\n",
      "|   6465075|51882749|2015-10-25|    9351294|         Jeff|Catlin's condo wa...|\n",
      "|   6465075|70650173|2016-04-19|   36237596|     Thaddeus|Wonderfully accom...|\n",
      "|   6465075|76121221|2016-05-24|   50149012|           Ce|Catlin's home is ...|\n",
      "|   3420221|87694352|2016-07-21|   78187562|         Ryan|                null|\n",
      "|   6465075|77905399|2016-06-04|   10244464|      Yen Lin|Catlin wasn't pre...|\n",
      "|   6465075|80077664|2016-06-16|     304927|        Pooja|Catlin has a beau...|\n",
      "+----------+--------+----------+-----------+-------------+--------------------+\n",
      "only showing top 20 rows\n",
      "\n"
     ]
    },
    {
     "name": "stderr",
     "output_type": "stream",
     "text": [
      "                                                                                \r"
     ]
    }
   ],
   "source": [
    "reviews_df.show()"
   ]
  },
  {
   "cell_type": "markdown",
   "metadata": {},
   "source": [
    "## Task 1 Get Distinct Street names and it's best listing based on analysis of price, reviews and booking"
   ]
  },
  {
   "cell_type": "code",
   "execution_count": 8,
   "metadata": {},
   "outputs": [],
   "source": [
    "#firstly lets calculate reviews rating by using sentiment analysis\n",
    "# Define a function to perform sentiment analysis using TextBlob\n",
    "def analyze_sentiment(comment):\n",
    "    if comment is not None and isinstance(comment, str):\n",
    "        analysis = TextBlob(comment)\n",
    "        # Classify sentiment as positive, neutral, or negative based on polarity\n",
    "        if analysis.sentiment.polarity > 0:\n",
    "            return \"positive\"\n",
    "        elif analysis.sentiment.polarity == 0:\n",
    "            return \"neutral\"\n",
    "        else:\n",
    "            return \"negative\"\n",
    "    else:\n",
    "        return None"
   ]
  },
  {
   "cell_type": "code",
   "execution_count": 9,
   "metadata": {},
   "outputs": [],
   "source": [
    "# Register the UDF\n",
    "sentiment_analysis_udf = udf(analyze_sentiment, StringType())"
   ]
  },
  {
   "cell_type": "code",
   "execution_count": 10,
   "metadata": {},
   "outputs": [],
   "source": [
    "# analyze the sentiment of review and keep it under sentiment column in a new df\n",
    "reviews_sentiment = reviews_df.withColumn(\"sentiment\", sentiment_analysis_udf(col(\"comments\")))"
   ]
  },
  {
   "cell_type": "code",
   "execution_count": 11,
   "metadata": {},
   "outputs": [
    {
     "name": "stderr",
     "output_type": "stream",
     "text": [
      "[Stage 3:>                                                          (0 + 1) / 1]\r"
     ]
    },
    {
     "name": "stdout",
     "output_type": "stream",
     "text": [
      "+----------+--------+----------+-----------+-------------+--------------------+---------+\n",
      "|listing_id|      id|      date|reviewer_id|reviewer_name|            comments|sentiment|\n",
      "+----------+--------+----------+-----------+-------------+--------------------+---------+\n",
      "|   8595650|99096335|2016-09-03|   74253712|        Peter|The area the apar...| positive|\n",
      "|  13449049|79825811|2016-06-14|   10383854|          Ali|The host canceled...|  neutral|\n",
      "|  13449049|80893606|2016-06-20|    2766707|        Chris|Lilly is a great ...| positive|\n",
      "|  13449049|81472725|2016-06-23|   29910089|         Adam|Lily was extremel...| positive|\n",
      "|   6465075|33541745|2015-05-29|   15813117|       Lauren|Caitlin's apartme...| positive|\n",
      "|   6465075|33953200|2015-06-02|   33202230|       Hyobin|Catlin was very h...| positive|\n",
      "|   6465075|34086562|2015-06-04|   16569306|        Bryan|A++++++ host. May...| positive|\n",
      "|   6465075|35484176|2015-06-19|    5830321|  Joshua Amor|A wonderful and c...| positive|\n",
      "|   6465075|36209339|2015-06-26|   34825134|      Carolyn|Beautiful condo -...| positive|\n",
      "|   6465075|45371507|2015-09-02|   33921455|      Joaquin|I appreciate so m...| positive|\n",
      "|   6465075|48528036|2015-09-27|   40240939|  Marie  Rick|We enjoyed stayin...| positive|\n",
      "|   6465075|49321325|2015-10-03|   39246110|          Tao|It's a nice home,...| positive|\n",
      "|   6465075|50169983|2015-10-10|   39490699|      Melissa|Catlin's apartmen...| positive|\n",
      "|   6465075|50638782|2015-10-13|   42264425|       Lothar|Unfortunately thi...| positive|\n",
      "|   6465075|51882749|2015-10-25|    9351294|         Jeff|Catlin's condo wa...| positive|\n",
      "|   6465075|70650173|2016-04-19|   36237596|     Thaddeus|Wonderfully accom...| positive|\n",
      "|   6465075|76121221|2016-05-24|   50149012|           Ce|Catlin's home is ...| positive|\n",
      "|   3420221|87694352|2016-07-21|   78187562|         Ryan|                null|     null|\n",
      "|   6465075|77905399|2016-06-04|   10244464|      Yen Lin|Catlin wasn't pre...| positive|\n",
      "|   6465075|80077664|2016-06-16|     304927|        Pooja|Catlin has a beau...| positive|\n",
      "+----------+--------+----------+-----------+-------------+--------------------+---------+\n",
      "only showing top 20 rows\n",
      "\n"
     ]
    },
    {
     "name": "stderr",
     "output_type": "stream",
     "text": [
      "                                                                                \r"
     ]
    }
   ],
   "source": [
    "reviews_sentiment.show()"
   ]
  },
  {
   "cell_type": "code",
   "execution_count": 15,
   "metadata": {},
   "outputs": [],
   "source": [
    "reviews_sentiment1 = reviews_sentiment.groupBy(\"listing_id\")\\\n",
    "    .agg(count(col(\"sentiment\")==\"positive\"). alias(\"total_positive_reviews\"), count(\"*\").alias(\"total_reviews_count\"))"
   ]
  },
  {
   "cell_type": "code",
   "execution_count": 19,
   "metadata": {},
   "outputs": [],
   "source": [
    "final_review = reviews_sentiment1\\\n",
    "    .withColumn(\"Review_rate\", col(\"total_positive_reviews\")/col(\"total_reviews_count\"))"
   ]
  },
  {
   "cell_type": "code",
   "execution_count": 112,
   "metadata": {},
   "outputs": [],
   "source": [
    "final_review = final_review.drop('total_positive_reviews', 'total_reviews_count')"
   ]
  },
  {
   "cell_type": "code",
   "execution_count": 113,
   "metadata": {},
   "outputs": [
    {
     "name": "stderr",
     "output_type": "stream",
     "text": [
      "[Stage 104:>                                                        (0 + 1) / 1]\r"
     ]
    },
    {
     "name": "stdout",
     "output_type": "stream",
     "text": [
      "+----------+------------------+\n",
      "|listing_id|       Review_rate|\n",
      "+----------+------------------+\n",
      "|  12655758|0.8888888888888888|\n",
      "|  10705351|0.9333333333333333|\n",
      "|   2077794|0.9285714285714286|\n",
      "|  14300751|0.6666666666666666|\n",
      "|  13421289|0.9230769230769231|\n",
      "|  13592046|0.8888888888888888|\n",
      "|  13490438|               0.5|\n",
      "|   8490356|0.8888888888888888|\n",
      "|   8789821|0.8571428571428571|\n",
      "|  12540640|              0.75|\n",
      "|  13081347|0.6666666666666666|\n",
      "|  14043390|              0.75|\n",
      "|  12103501|              0.75|\n",
      "|   8200839|0.9473684210526315|\n",
      "+----------+------------------+\n",
      "\n"
     ]
    },
    {
     "name": "stderr",
     "output_type": "stream",
     "text": [
      "                                                                                \r"
     ]
    }
   ],
   "source": [
    "final_review.where(col(\"Review_rate\") < 0.95).show()"
   ]
  },
  {
   "cell_type": "code",
   "execution_count": 53,
   "metadata": {},
   "outputs": [],
   "source": [
    "calendar_1 = calendar_df.groupBy(\"listing_id\")\\\n",
    "    .agg(count(expr(\"CASE WHEN available = False THEN 1 ELSE NULL END\")).alias(\"booked_days\"))"
   ]
  },
  {
   "cell_type": "code",
   "execution_count": 57,
   "metadata": {},
   "outputs": [
    {
     "name": "stderr",
     "output_type": "stream",
     "text": [
      "[Stage 70:>                                                         (0 + 1) / 1]\r"
     ]
    },
    {
     "name": "stdout",
     "output_type": "stream",
     "text": [
      "+----------+-----------+\n",
      "|listing_id|booked_days|\n",
      "+----------+-----------+\n",
      "|   3068453|         66|\n",
      "|   6911945|        363|\n",
      "|  13397201|        331|\n",
      "|   8165898|        186|\n",
      "|  10036037|        248|\n",
      "|   9410831|        365|\n",
      "|   8036024|        296|\n",
      "|   7825327|         30|\n",
      "|  14219033|        210|\n",
      "|  13151270|          0|\n",
      "|   2754975|        111|\n",
      "|  14918869|          0|\n",
      "|   8303267|         32|\n",
      "|  13251243|        158|\n",
      "|   2513870|        365|\n",
      "|  13602808|        310|\n",
      "|   8211468|         55|\n",
      "|   4149974|         51|\n",
      "|  14322091|        352|\n",
      "|   9238963|        365|\n",
      "+----------+-----------+\n",
      "only showing top 20 rows\n",
      "\n"
     ]
    },
    {
     "name": "stderr",
     "output_type": "stream",
     "text": [
      "                                                                                \r"
     ]
    }
   ],
   "source": [
    "calendar_1.show()"
   ]
  },
  {
   "cell_type": "code",
   "execution_count": 61,
   "metadata": {},
   "outputs": [],
   "source": [
    "vector_assembler = VectorAssembler(inputCols=[\"booked_days\"], outputCol=\"booked_days_vec\")\n",
    "calendar_1 = vector_assembler.transform(calendar_1)"
   ]
  },
  {
   "cell_type": "code",
   "execution_count": 62,
   "metadata": {},
   "outputs": [
    {
     "name": "stderr",
     "output_type": "stream",
     "text": [
      "                                                                                \r"
     ]
    }
   ],
   "source": [
    "scaler = MinMaxScaler(inputCol=\"booked_days_vec\", outputCol=\"normalized_booked_days\")\n",
    "\n",
    "scaler_model = scaler.fit(calendar_1)\n",
    "normalized_calendar = scaler_model.transform(calendar_1)"
   ]
  },
  {
   "cell_type": "code",
   "execution_count": 69,
   "metadata": {},
   "outputs": [
    {
     "name": "stdout",
     "output_type": "stream",
     "text": [
      "root\n",
      " |-- listing_id: integer (nullable = true)\n",
      " |-- booked_days: long (nullable = false)\n",
      " |-- booked_days_vec: vector (nullable = true)\n",
      " |-- normalized_booked_days: vector (nullable = true)\n",
      "\n"
     ]
    }
   ],
   "source": [
    "normalized_calendar.printSchema()"
   ]
  },
  {
   "cell_type": "code",
   "execution_count": 75,
   "metadata": {},
   "outputs": [],
   "source": [
    "unlist = udf(lambda x: float(list(x)[0]), DoubleType())"
   ]
  },
  {
   "cell_type": "code",
   "execution_count": 76,
   "metadata": {},
   "outputs": [],
   "source": [
    "normalized_calendar = normalized_calendar.withColumn(\"nbd_new\", unlist(\"normalized_booked_days\"))"
   ]
  },
  {
   "cell_type": "code",
   "execution_count": 79,
   "metadata": {},
   "outputs": [
    {
     "name": "stdout",
     "output_type": "stream",
     "text": [
      "root\n",
      " |-- listing_id: integer (nullable = true)\n",
      " |-- booked_days: long (nullable = false)\n",
      " |-- booked_days_vec: vector (nullable = true)\n",
      " |-- normalized_booked_days: vector (nullable = true)\n",
      " |-- nbd_new: double (nullable = true)\n",
      "\n"
     ]
    }
   ],
   "source": [
    "normalized_calendar.printSchema()"
   ]
  },
  {
   "cell_type": "code",
   "execution_count": 86,
   "metadata": {},
   "outputs": [],
   "source": [
    "final_calendar = normalized_calendar.select(\"listing_id\", col(\"nbd_new\").alias(\"booked_days\"))"
   ]
  },
  {
   "cell_type": "code",
   "execution_count": 87,
   "metadata": {},
   "outputs": [
    {
     "name": "stderr",
     "output_type": "stream",
     "text": [
      "[Stage 90:>                                                         (0 + 1) / 1]\r"
     ]
    },
    {
     "name": "stdout",
     "output_type": "stream",
     "text": [
      "+----------+--------------------+\n",
      "|listing_id|         booked_days|\n",
      "+----------+--------------------+\n",
      "|   3068453| 0.11578947368421053|\n",
      "|   6911945|  0.6368421052631579|\n",
      "|  13397201|  0.5807017543859649|\n",
      "|   8165898|  0.3263157894736842|\n",
      "|  10036037| 0.43508771929824563|\n",
      "|   9410831|  0.6403508771929824|\n",
      "|   8036024|  0.5192982456140351|\n",
      "|   7825327|0.052631578947368425|\n",
      "|  14219033|  0.3684210526315789|\n",
      "|  13151270|                 0.0|\n",
      "|   2754975| 0.19473684210526315|\n",
      "|  14918869|                 0.0|\n",
      "|   8303267|0.056140350877192984|\n",
      "|  13251243|  0.2771929824561404|\n",
      "|   2513870|  0.6403508771929824|\n",
      "|  13602808|   0.543859649122807|\n",
      "|   8211468| 0.09649122807017545|\n",
      "|   4149974| 0.08947368421052632|\n",
      "|  14322091|  0.6175438596491228|\n",
      "|   9238963|  0.6403508771929824|\n",
      "+----------+--------------------+\n",
      "only showing top 20 rows\n",
      "\n"
     ]
    },
    {
     "name": "stderr",
     "output_type": "stream",
     "text": [
      "                                                                                \r"
     ]
    }
   ],
   "source": [
    "final_calendar.show()"
   ]
  },
  {
   "cell_type": "code",
   "execution_count": 94,
   "metadata": {},
   "outputs": [],
   "source": [
    "listing1 = listing_df.select(\"id\", \"name\", \"street\", \"property_type\", \"price\")"
   ]
  },
  {
   "cell_type": "code",
   "execution_count": 97,
   "metadata": {},
   "outputs": [],
   "source": [
    "listing1 = listing1.withColumn(\"price\", col(\"price\").cast(\"int\"))"
   ]
  },
  {
   "cell_type": "code",
   "execution_count": 98,
   "metadata": {},
   "outputs": [
    {
     "name": "stdout",
     "output_type": "stream",
     "text": [
      "root\n",
      " |-- id: string (nullable = true)\n",
      " |-- name: string (nullable = true)\n",
      " |-- street: string (nullable = true)\n",
      " |-- property_type: string (nullable = true)\n",
      " |-- price: integer (nullable = true)\n",
      "\n"
     ]
    }
   ],
   "source": [
    "listing1.printSchema()"
   ]
  },
  {
   "cell_type": "code",
   "execution_count": 99,
   "metadata": {},
   "outputs": [],
   "source": [
    "vector_assembler1 = VectorAssembler(inputCols=[\"price\"], outputCol=\"price_vec\")\n",
    "listing1 = vector_assembler1.transform(listing1)"
   ]
  },
  {
   "cell_type": "code",
   "execution_count": 101,
   "metadata": {},
   "outputs": [],
   "source": [
    "scaler1 = MinMaxScaler(inputCol=\"price_vec\", outputCol=\"lux_price_vec\")\n",
    "\n",
    "scaler_model1 = scaler1.fit(listing1)\n",
    "normalized_listing = scaler_model1.transform(listing1)"
   ]
  },
  {
   "cell_type": "code",
   "execution_count": 106,
   "metadata": {},
   "outputs": [],
   "source": [
    "normalized_listing = normalized_listing.withColumn(\"lux_price\", unlist(\"lux_price_vec\"))"
   ]
  },
  {
   "cell_type": "code",
   "execution_count": 108,
   "metadata": {},
   "outputs": [],
   "source": [
    "normalized_listing = normalized_listing.drop('price_vec', 'lux_price_vec')"
   ]
  },
  {
   "cell_type": "code",
   "execution_count": 110,
   "metadata": {},
   "outputs": [],
   "source": [
    "final_listing = normalized_listing.withColumn(\"bud_price\", 1-col(\"lux_price\"))"
   ]
  },
  {
   "cell_type": "code",
   "execution_count": 111,
   "metadata": {},
   "outputs": [
    {
     "name": "stderr",
     "output_type": "stream",
     "text": [
      "[Stage 103:>                                                        (0 + 1) / 1]\r"
     ]
    },
    {
     "name": "stdout",
     "output_type": "stream",
     "text": [
      "+--------+--------------------+--------------------+-------------+-----+--------------------+------------------+\n",
      "|      id|                name|              street|property_type|price|           lux_price|         bud_price|\n",
      "+--------+--------------------+--------------------+-------------+-----+--------------------+------------------+\n",
      "|12147973|Sunny Bungalow in...|Birch Street Bost...|        House|25000| 0.05778894472361809|0.9422110552763819|\n",
      "| 3075044|Charming room in ...|Pinehurst Street ...|    Apartment| 6500|0.011306532663316583|0.9886934673366834|\n",
      "|    6976|Mexican Folk Art ...|Ardale St. Boston...|    Apartment| 6500|0.011306532663316583|0.9886934673366834|\n",
      "| 1436513|Spacious Sunny Be...|Boston MA United ...|        House| 7500|0.013819095477386936|0.9861809045226131|\n",
      "| 7651065| Come Home to Boston|Durnell Avenue Bo...|        House| 7900|0.014824120603015077|0.9851758793969849|\n",
      "|12386020|Private Bedroom +...|Walter Street Bos...|  Condominium| 7500|0.013819095477386936|0.9861809045226131|\n",
      "| 5706985|New Lrg Studio ap...|Kittredge Street ...|    Apartment|10000|0.020100502512562814|0.9798994974874372|\n",
      "| 2843445|\"Tranquility\" on ...|Cornell Street Bo...|        House| 7500|0.013819095477386936|0.9861809045226131|\n",
      "|  753446|6 miles away from...|Sycamore St Rosli...|  Condominium| 5800|0.009547738693467337|0.9904522613065326|\n",
      "|  849408|Perfect & Practic...|Centre Street Bos...|    Apartment|22900| 0.05251256281407035|0.9474874371859296|\n",
      "| 5434353|Quiet  Beauty in ...|Tyndale Street Bo...|        House|14500|  0.0314070351758794|0.9685929648241206|\n",
      "|  225979|Cozy Room & Fresh...|Augustus Ave Bost...|    Apartment| 6000|0.010050251256281407|0.9899497487437185|\n",
      "| 3420384|Convient Safe and...|Doncaster Street ...|        House|16500|0.036432160804020106|0.9635678391959799|\n",
      "| 2583074|Cozy room in a ch...|Cedrus Avenue Bos...|        Villa| 4000|0.005025125628140704|0.9949748743718593|\n",
      "|13251243|Arborside Guest C...|Weld Street Rosli...|        House|12000| 0.02512562814070352|0.9748743718592965|\n",
      "|  225834|Skyline View to B...|Augustus Ave Bost...|    Apartment| 7000| 0.01256281407035176|0.9874371859296482|\n",
      "| 6400432|Spacious 3 bedroo...|Metropolitan Ave ...|        House|15000|0.032663316582914576|0.9673366834170855|\n",
      "| 8097453|Luxury 1BR Boston...|Brookline Avenue ...|    Apartment|16900|0.037437185929648245|0.9625628140703517|\n",
      "| 5498472|4BD/3.5BA Perfect...|Chisholm Lane Bos...|        House|17500|0.038944723618090454|0.9610552763819096|\n",
      "|  894539|Private room in h...|Ashfield Street R...|        House| 9500| 0.01884422110552764|0.9811557788944724|\n",
      "+--------+--------------------+--------------------+-------------+-----+--------------------+------------------+\n",
      "only showing top 20 rows\n",
      "\n"
     ]
    },
    {
     "name": "stderr",
     "output_type": "stream",
     "text": [
      "                                                                                \r"
     ]
    }
   ],
   "source": [
    "final_listing.show()"
   ]
  },
  {
   "cell_type": "code",
   "execution_count": 114,
   "metadata": {},
   "outputs": [],
   "source": [
    "ini_join = final_review.join(final_calendar, \"listing_id\")"
   ]
  },
  {
   "cell_type": "code",
   "execution_count": 116,
   "metadata": {},
   "outputs": [],
   "source": [
    "final_join = final_listing.join(ini_join, final_listing[\"id\"] == ini_join[\"listing_id\"])"
   ]
  },
  {
   "cell_type": "code",
   "execution_count": 118,
   "metadata": {},
   "outputs": [],
   "source": [
    "final_join = final_join.drop('listing_id')"
   ]
  },
  {
   "cell_type": "code",
   "execution_count": 119,
   "metadata": {},
   "outputs": [
    {
     "name": "stdout",
     "output_type": "stream",
     "text": [
      "root\n",
      " |-- id: string (nullable = true)\n",
      " |-- name: string (nullable = true)\n",
      " |-- street: string (nullable = true)\n",
      " |-- property_type: string (nullable = true)\n",
      " |-- price: integer (nullable = true)\n",
      " |-- lux_price: double (nullable = true)\n",
      " |-- bud_price: double (nullable = true)\n",
      " |-- Review_rate: double (nullable = true)\n",
      " |-- booked_days: double (nullable = true)\n",
      "\n"
     ]
    }
   ],
   "source": [
    "final_join.printSchema()"
   ]
  },
  {
   "cell_type": "code",
   "execution_count": 136,
   "metadata": {},
   "outputs": [],
   "source": [
    "final_join_lux = final_join.withColumn(\"Overal_score\", col(\"lux_price\")+col(\"Review_rate\")+col(\"booked_days\"))"
   ]
  },
  {
   "cell_type": "code",
   "execution_count": 137,
   "metadata": {},
   "outputs": [],
   "source": [
    "final_join_lux1 = final_join_lux.drop('lux_price', 'bud_price', 'Review_rate', 'booked_days')"
   ]
  },
  {
   "cell_type": "code",
   "execution_count": 138,
   "metadata": {},
   "outputs": [
    {
     "name": "stderr",
     "output_type": "stream",
     "text": [
      "[Stage 177:>                                                        (0 + 1) / 1]\r"
     ]
    },
    {
     "name": "stdout",
     "output_type": "stream",
     "text": [
      "+--------+--------------------+--------------------+-------------+------+------------------+\n",
      "|      id|                name|              street|property_type| price|      Overal_score|\n",
      "+--------+--------------------+--------------------+-------------+------+------------------+\n",
      "|14219033|Updated large bed...|Jacob Street Bost...|    Townhouse|  5900|1.3782200476064534|\n",
      "|10036037|New Luxury 2BR-Ap...|Boylston Street B...|    Apartment| 19900|1.4800625936701048|\n",
      "| 6911945|Lovely clean 1B h...|Bowen Street Bost...|  Condominium| 17000|1.6745305474742131|\n",
      "| 7825327|Brown Stone Apt #...|Tremont Street Bo...|    Apartment| 35000|  1.13554615181169|\n",
      "| 2754975|Perfect Location ...|Beacon Street Bos...|    Apartment| 25000|1.2525257868288813|\n",
      "| 3068453|Large Studio in T...|Tremont Street Bo...|    Apartment| 13300|1.1441814334832054|\n",
      "| 8036024|Upscale Faneuil H...|North Washington ...|  Condominium| 15000|1.5519615621969498|\n",
      "| 3873776|Large Sunny Beaco...|Charles Street Bo...|    Apartment| 32500| 1.078387551794058|\n",
      "| 1912940|1 Bedroom apartme...|Strathmore Road B...|    Apartment| 15000|1.2309089306180023|\n",
      "| 8310653|Spacious and mode...|Gardner Street Bo...|    Apartment|  8500|1.6566825354844397|\n",
      "| 8303267|4+ BR Quiet Delux...|West Canton Stree...|        House|130000| 1.377748391078198|\n",
      "| 4149974|  Centered on Centre|Centre Street Bos...|    Apartment| 11500|1.1133430309441947|\n",
      "| 8822499|Beautiful Back Ba...|Gloucester Street...|    Apartment| 20000|1.2768050780216875|\n",
      "|13251243|Arborside Guest C...|Weld Street Rosli...|        House| 12000|1.3023186105968438|\n",
      "|  197972|Super Studio-Priv...|Spring Park Ave B...|        House| 14500|1.1068456316671076|\n",
      "|13602808|Luxury 2 bed Apt ...|Farnsworth Street...|    Apartment| 24900|1.6013973375650181|\n",
      "| 1615033|Best Cozy Freedom...|Hull Street Court...|    Apartment| 13500| 1.116613770607423|\n",
      "|  321328|Bright Room Near ...|Selwyn St Boston ...|    Apartment| 10000|1.0358899761967735|\n",
      "| 6596242|Downtown Boston w...|Chauncy Street Bo...|    Apartment| 18500|1.6133871109935642|\n",
      "| 8814215|Fantastic Downtow...|Staniford Street ...|    Apartment| 16700|1.0457066031913955|\n",
      "+--------+--------------------+--------------------+-------------+------+------------------+\n",
      "only showing top 20 rows\n",
      "\n"
     ]
    },
    {
     "name": "stderr",
     "output_type": "stream",
     "text": [
      "                                                                                \r"
     ]
    }
   ],
   "source": [
    "final_join_lux1.show()"
   ]
  },
  {
   "cell_type": "code",
   "execution_count": 139,
   "metadata": {},
   "outputs": [],
   "source": [
    "windowSpec = Window.partitionBy(\"street\").orderBy(col(\"Overal_score\").desc())"
   ]
  },
  {
   "cell_type": "code",
   "execution_count": 140,
   "metadata": {},
   "outputs": [
    {
     "name": "stderr",
     "output_type": "stream",
     "text": [
      "[Stage 186:>                                                        (0 + 1) / 1]\r"
     ]
    },
    {
     "name": "stdout",
     "output_type": "stream",
     "text": [
      "+--------+--------------------+--------------------+-------------+-----+------------------+----------+\n",
      "|      id|                name|              street|property_type|price|      Overal_score|row_number|\n",
      "+--------+--------------------+--------------------+-------------+-----+------------------+----------+\n",
      "| 8454985|Modern Navy Yard ...|13th St Charlesto...|    Apartment|22500|1.4111566604954597|         1|\n",
      "| 2167993|Boston Waterfront...|13th Street Bosto...|    Apartment|14900|1.0955699550383495|         1|\n",
      "|12915510|It's always more ...|13th Street Bosto...|         Boat|22900|1.0525125628140704|         2|\n",
      "| 5684598|Navy Yard Condo o...|1st Avenue Boston...|    Apartment|19900| 1.250238032266596|         1|\n",
      "| 5481243|Private room in B...|1st Avenue Charle...|  Condominium|15000|1.1431896323723882|         1|\n",
      "| 4532603|Heart of Boston -...|A Garden St Bosto...|    Apartment|22900| 1.170056422463193|         1|\n",
      "|14536322|Victorian Garden ...|A Mount Auburn St...|        House| 8500|1.1040509565370713|         1|\n",
      "| 7225201|Master bed/bath i...|A St Boston MA 02...|         Loft|17000|1.0394428281759676|         1|\n",
      "| 2384107|Penthouse Level w...|A Street Boston M...|    Apartment|35000|1.7144935202327427|         1|\n",
      "|14843783|2 Bedroom Seaport...|A Street Boston M...|    Apartment|34900|1.7142422639513355|         2|\n",
      "| 3363097|Modern Apt in Sea...|A Street Boston M...|    Apartment|40000|1.1516177378118664|         3|\n",
      "| 7134081|Made in Fort Poin...|A Street Boston M...|  Condominium|39000|1.1420876311381467|         4|\n",
      "| 6843850|Boston Penthouse ...|A Street Boston M...|    Apartment|50000|1.1416556466543244|         5|\n",
      "| 2564544|Vacation Business...|A Street Boston M...|    Apartment|17900|1.0960900996209115|         6|\n",
      "| 8827268|Views Amenities L...|A Street Boston M...|    Apartment|20000|1.0452261306532664|         7|\n",
      "| 8828147|Crash in a lux hi...|A Street Boston M...|    Apartment|15900|1.0384333950454026|         8|\n",
      "| 9845039|Cozy 1-Bedroom in...|Aberdeen Street B...|    Apartment|10000|1.6604513797055453|         1|\n",
      "|10186477|Cozy Private Room...|Aberdeen Street B...|    Apartment| 5000|1.6478885656351936|         2|\n",
      "| 2014882|2 Bedrooms with 1...|Academy Hill Rd B...|        House| 7000|1.1108084281054396|         1|\n",
      "|14710769|Need a place to c...|Adams Street Bost...|    Apartment| 6000|1.0118046372211937|         1|\n",
      "+--------+--------------------+--------------------+-------------+-----+------------------+----------+\n",
      "only showing top 20 rows\n",
      "\n"
     ]
    },
    {
     "name": "stderr",
     "output_type": "stream",
     "text": [
      "                                                                                \r"
     ]
    }
   ],
   "source": [
    "final_join_lux1.withColumn(\"row_number\", row_number().over(windowSpec)).show()"
   ]
  }
 ],
 "metadata": {
  "kernelspec": {
   "display_name": "venv",
   "language": "python",
   "name": "python3"
  },
  "language_info": {
   "codemirror_mode": {
    "name": "ipython",
    "version": 3
   },
   "file_extension": ".py",
   "mimetype": "text/x-python",
   "name": "python",
   "nbconvert_exporter": "python",
   "pygments_lexer": "ipython3",
   "version": "3.10.12"
  },
  "orig_nbformat": 4
 },
 "nbformat": 4,
 "nbformat_minor": 2
}
