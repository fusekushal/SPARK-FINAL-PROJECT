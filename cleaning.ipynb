{
 "cells": [
  {
   "cell_type": "code",
   "execution_count": 1,
   "metadata": {},
   "outputs": [],
   "source": [
    "from pyspark.sql import SparkSession\n",
    "from pyspark.sql.functions import when, col, regexp_replace\n",
    "from pyspark.sql.types import IntegerType"
   ]
  },
  {
   "cell_type": "code",
   "execution_count": 2,
   "metadata": {},
   "outputs": [
    {
     "name": "stderr",
     "output_type": "stream",
     "text": [
      "23/09/11 14:51:25 WARN Utils: Your hostname, kushal-Latitude-E5440 resolves to a loopback address: 127.0.1.1; using 192.168.1.14 instead (on interface wlp2s0)\n",
      "23/09/11 14:51:25 WARN Utils: Set SPARK_LOCAL_IP if you need to bind to another address\n",
      "Setting default log level to \"WARN\".\n",
      "To adjust logging level use sc.setLogLevel(newLevel). For SparkR, use setLogLevel(newLevel).\n",
      "23/09/11 14:51:29 WARN NativeCodeLoader: Unable to load native-hadoop library for your platform... using builtin-java classes where applicable\n"
     ]
    }
   ],
   "source": [
    "# Initialize a Spark session\n",
    "spark = SparkSession.builder.appName(\"DataTransformation\")\\\n",
    "    .config('spark.driver.extraClassPath','/usr/lib/jvm/java-11-openjdk-amd64/lib/postgresql-42.5.0.jar')\\\n",
    "        .getOrCreate()"
   ]
  },
  {
   "cell_type": "code",
   "execution_count": 3,
   "metadata": {},
   "outputs": [
    {
     "name": "stderr",
     "output_type": "stream",
     "text": [
      "                                                                                \r"
     ]
    }
   ],
   "source": [
    "listing_df_raw = spark.read.csv('raw_data/listings.tsv', header=True, inferSchema=True, sep=\"\\t\")\n",
    "reviews_df_raw = spark.read.csv('raw_data/reviews.tsv', header=True, inferSchema=True, sep=\"\\t\")\n",
    "calendar_df_raw = spark.read.csv('raw_data/calendar.tsv', header=True, inferSchema=True,sep=\"\\t\")"
   ]
  },
  {
   "cell_type": "code",
   "execution_count": 4,
   "metadata": {},
   "outputs": [],
   "source": [
    "# Transform the data\n",
    "\n",
    "# LISTINGS DATA\n",
    "\n",
    "# Drop the 'summary' column\n",
    "listing_df_raw = listing_df_raw.drop('summary')\n",
    "listing_df_raw = listing_df_raw.drop('description')\n",
    "listing_df_raw = listing_df_raw.drop('host_about')\n",
    "\n",
    "\n",
    "# Convert 'host_is_superhost' to boolean\n",
    "listing_df_raw = listing_df_raw.withColumn('host_is_superhost', when(col('host_is_superhost') == 't', True).otherwise(False))\n",
    "\n",
    "# Drop 'country' and 'market' columns\n",
    "listing_df_raw = listing_df_raw.drop('country', 'market')\n",
    "\n",
    "# Drop rows with null values in the 'space' column\n",
    "listing_df_raw = listing_df_raw.na.drop(subset=['space'])\n",
    "\n",
    "# Drop rows with null values in the 'property_type' column\n",
    "listing_df_raw = listing_df_raw.na.drop(subset=['property_type'])\n",
    "\n",
    "# Remove \"$\" and convert to integer\n",
    "listing_df_raw = listing_df_raw.withColumn(\"price\", regexp_replace(col(\"price\"), \"[^0-9]\", \"\").cast(IntegerType()))\n",
    "\n",
    "# Replace commas in all columns using a loop\n",
    "for column in listing_df_raw.columns:\n",
    "    listing_df_raw = listing_df_raw.withColumn(column, regexp_replace(col(column), ',', ''))"
   ]
  },
  {
   "cell_type": "code",
   "execution_count": 5,
   "metadata": {},
   "outputs": [
    {
     "name": "stderr",
     "output_type": "stream",
     "text": [
      "                                                                                \r"
     ]
    },
    {
     "name": "stdout",
     "output_type": "stream",
     "text": [
      "+--------+--------------------+--------------------+--------------------+-----------+--------------------+------------------+------------------+--------------------+-----------------+----------+--------------------+----------+-----+-------+-------------+---------------+------------+---------+--------+-----+-----------------+\n",
      "|      id|         listing_url|                name|               space|  host_name|       host_location|host_response_time|host_response_rate|host_acceptance_rate|host_is_superhost|host_since|              street|      city|state|zipcode|property_type|      room_type|accommodates|bathrooms|bedrooms|price|number_of_reviews|\n",
      "+--------+--------------------+--------------------+--------------------+-----------+--------------------+------------------+------------------+--------------------+-----------------+----------+--------------------+----------+-----+-------+-------------+---------------+------------+---------+--------+-----+-----------------+\n",
      "|12147973|https://www.airbn...|Sunny Bungalow in...|The house has an ...|   Virginia|Boston Massachuse...|               N/A|               N/A|                 N/A|            false|2015-04-15|Birch Street Bost...|    Boston|   MA|   2131|        House|Entire home/apt|           4|      1.5|       2|25000|                0|\n",
      "| 3075044|https://www.airbn...|Charming room in ...|Small but cozy an...|     Andrea|Boston Massachuse...|    within an hour|              100%|                100%|            false|2012-06-07|Pinehurst Street ...|    Boston|   MA|   2131|    Apartment|   Private room|           2|      1.0|       1| 6500|               36|\n",
      "|    6976|https://www.airbn...|Mexican Folk Art ...|Come stay with a ...|       Phil|Boston Massachuse...|within a few hours|              100%|                 88%|             true|2009-05-11|Ardale St. Boston...|    Boston|   MA|   2131|    Apartment|   Private room|           2|      1.0|       1| 6500|               41|\n",
      "| 1436513|https://www.airbn...|Spacious Sunny Be...|Most places you f...|     Meghna|Boston Massachuse...|within a few hours|              100%|                 50%|            false|2013-04-21|Boston MA United ...|    Boston|   MA|   null|        House|   Private room|           4|      1.0|       1| 7500|                1|\n",
      "| 7651065|https://www.airbn...| Come Home to Boston|Clean attractive ...|      Linda|Boston Massachuse...|    within an hour|              100%|                100%|             true|2014-05-11|Durnell Avenue Bo...|    Boston|   MA|   2131|        House|   Private room|           2|      1.5|       1| 7900|               29|\n",
      "|12386020|https://www.airbn...|Private Bedroom +...|Our sunny condo i...|    Deborah|Boston Massachuse...|within a few hours|              100%|                 95%|             true|2016-03-23|Walter Street Bos...|    Boston|   MA|   2131|  Condominium|   Private room|           2|      1.0|       1| 7500|                8|\n",
      "| 5706985|https://www.airbn...|New Lrg Studio ap...|The whole house w...|     Juliet|Milton Massachuse...|    within an hour|               98%|                 96%|            false|2013-05-25|Kittredge Street ...|    Boston|   MA|   2131|    Apartment|Entire home/apt|           3|      1.0|       1|10000|               57|\n",
      "| 2843445|https://www.airbn...|\"Tranquility\" on ...|We provide a bedr...|    Marilyn|Boston Massachuse...|within a few hours|              100%|                100%|             true|2012-08-05|Cornell Street Bo...|    Boston|   MA|   2131|        House|   Private room|           2|      2.0|       1| 7500|               67|\n",
      "|  753446|https://www.airbn...|6 miles away from...|Nice and cozy apa...|       Sami|Boston Massachuse...|    within an hour|              100%|                100%|             true|2012-10-24|Sycamore St Rosli...|Roslindale|   MA|   2131|  Condominium|   Private room|           2|      1.0|       1| 5800|               65|\n",
      "|  849408|https://www.airbn...|Perfect & Practic...|Perfect apartment...|      Damon|Boston Massachuse...|    within an hour|              100%|                100%|             true|2012-12-18|Centre Street Bos...|    Boston|   MA|   2131|    Apartment|Entire home/apt|           5|      1.0|       2|22900|               33|\n",
      "| 5434353|https://www.airbn...|Quiet  Beauty in ...|Large living and ...|    Anthony|Boston Massachuse...|      within a day|               75%|                100%|            false|2013-10-27|Tyndale Street Bo...|    Boston|   MA|   2131|        House|Entire home/apt|           2|      1.5|       2|14500|                7|\n",
      "|  225979|https://www.airbn...|Cozy Room & Fresh...|This is a charmin...|      Duane|Boston Massachuse...|    within an hour|              100%|                 79%|            false|2011-09-18|Augustus Ave Bost...|    Boston|   MA|   2131|    Apartment|   Private room|           1|      0.0|       1| 6000|               70|\n",
      "| 3420384|https://www.airbn...|Convient Safe and...|Extra large studi...|    Cynthia|Boston Massachuse...|within a few hours|              100%|                100%|            false|2011-03-09|Doncaster Street ...|    Boston|   MA|   2131|        House|   Private room|           4|      1.0|       1|16500|                1|\n",
      "| 2583074|https://www.airbn...|Cozy room in a ch...|The room is cozy ...|    Mohamed|Boston Massachuse...|within a few hours|              100%|                 94%|             true|2014-03-17|Cedrus Avenue Bos...|    Boston|   MA|   2131|        Villa|   Private room|           1|      2.5|       1| 4000|               31|\n",
      "|13251243|https://www.airbn...|Arborside Guest C...|Today the cottage...|Carl & Judy|Boston Massachuse...|    within an hour|              100%|                100%|            false|2016-05-28|Weld Street Rosli...|Roslindale|   MA|   2131|        House|Entire home/apt|           3|      1.0|       0|12000|               16|\n",
      "|  225834|https://www.airbn...|Skyline View to B...|After a good nigh...|      Duane|Boston Massachuse...|    within an hour|              100%|                 79%|            false|2011-09-18|Augustus Ave Bost...|    Boston|   MA|   2131|    Apartment|   Private room|           2|      0.0|       1| 7000|               38|\n",
      "| 6400432|https://www.airbn...|Spacious 3 bedroo...|This Cape Cod sty...|      Jesús|Boston Massachuse...|      within a day|              100%|                 63%|            false|2014-10-29|Metropolitan Ave ...|    Boston|   MA|   2131|        House|Entire home/apt|           8|      1.0|       3|15000|               21|\n",
      "| 5498472|https://www.airbn...|4BD/3.5BA Perfect...|Our 2400+ square ...|    Colette|Boston Massachuse...|               N/A|               N/A|                 N/A|            false|2015-02-28|Chisholm Lane Bos...|    Boston|   MA|   2131|        House|Entire home/apt|           5|      3.5|       4|17500|                1|\n",
      "|  894539|https://www.airbn...|Private room in h...|Large private roo...|   Jennifer|Boston Massachuse...|    within an hour|              100%|                 92%|             true|2013-01-19|Ashfield Street R...|Roslindale|   MA|   2131|        House|   Private room|           2|      1.5|       1| 9500|               40|\n",
      "|  879929|https://www.airbn...|Surround yourself...|One big bedroom i...|       Beth|Boston Massachuse...|    within an hour|              100%|                100%|            false|2013-01-10|Ashfield Street R...|Roslindale|   MA|   2131|    Apartment|   Private room|           2|      1.0|       1| 9000|               43|\n",
      "+--------+--------------------+--------------------+--------------------+-----------+--------------------+------------------+------------------+--------------------+-----------------+----------+--------------------+----------+-----+-------+-------------+---------------+------------+---------+--------+-----+-----------------+\n",
      "only showing top 20 rows\n",
      "\n"
     ]
    }
   ],
   "source": [
    "listing_df_raw.show()"
   ]
  },
  {
   "cell_type": "code",
   "execution_count": 6,
   "metadata": {},
   "outputs": [
    {
     "name": "stdout",
     "output_type": "stream",
     "text": [
      "+----------+----------+---------+-----+\n",
      "|listing_id|      date|available|price|\n",
      "+----------+----------+---------+-----+\n",
      "|  12147973|2017-09-05|        f| null|\n",
      "|  12147973|2017-09-04|        f| null|\n",
      "|  12147973|2017-09-03|        f| null|\n",
      "|  12147973|2017-09-02|        f| null|\n",
      "|  12147973|2017-09-01|        f| null|\n",
      "|  12147973|2017-08-31|        f| null|\n",
      "|  12147973|2017-08-30|        f| null|\n",
      "|  12147973|2017-08-29|        f| null|\n",
      "|  12147973|2017-08-28|        f| null|\n",
      "|  12147973|2017-08-27|        f| null|\n",
      "|  12147973|2017-08-26|        f| null|\n",
      "|  12147973|2017-08-25|        f| null|\n",
      "|  12147973|2017-08-24|        f| null|\n",
      "|  12147973|2017-08-23|        f| null|\n",
      "|  12147973|2017-08-22|        f| null|\n",
      "|  12147973|2017-08-21|        f| null|\n",
      "|  12147973|2017-08-20|        f| null|\n",
      "|  12147973|2017-08-19|        f| null|\n",
      "|  12147973|2017-08-18|        f| null|\n",
      "|  12147973|2017-08-17|        f| null|\n",
      "+----------+----------+---------+-----+\n",
      "only showing top 20 rows\n",
      "\n"
     ]
    }
   ],
   "source": [
    "calendar_df_raw.show()"
   ]
  },
  {
   "cell_type": "code",
   "execution_count": 7,
   "metadata": {},
   "outputs": [],
   "source": [
    "# CALENDAR DATA\n",
    "\n",
    "# Convert 'available' to boolean\n",
    "calendar_df_raw = calendar_df_raw.withColumn('available', when(col('available') == 't', True).otherwise(False))\n",
    "\n",
    "# Remove \"$\" and convert to integer\n",
    "calendar_df_raw = calendar_df_raw.withColumn(\"price\", regexp_replace(col(\"price\"), \"[^0-9]\", \"\").cast(IntegerType()))"
   ]
  },
  {
   "cell_type": "code",
   "execution_count": 8,
   "metadata": {},
   "outputs": [
    {
     "name": "stderr",
     "output_type": "stream",
     "text": [
      "                                                                                \r"
     ]
    }
   ],
   "source": [
    "#Save the data\n",
    "listing_df_raw.coalesce(4).write.parquet('cleaned_data/clean_listing_parquet', mode=\"overwrite\", compression=\"snappy\")\n",
    "calendar_df_raw.coalesce(4).write.parquet('cleaned_data/clean_calendar_parquet', mode=\"overwrite\", compression=\"snappy\")\n",
    "reviews_df_raw.coalesce(4).write.parquet('cleaned_data/clean_reviews_parquet', mode=\"overwrite\", compression=\"snappy\")"
   ]
  },
  {
   "cell_type": "markdown",
   "metadata": {},
   "source": [
    "The code below writes the cleaned dataframe into the postgres db"
   ]
  },
  {
   "cell_type": "code",
   "execution_count": 13,
   "metadata": {},
   "outputs": [
    {
     "name": "stderr",
     "output_type": "stream",
     "text": [
      "23/09/11 15:12:08 WARN package: Truncated the string representation of a plan since it was too large. This behavior can be adjusted by setting 'spark.sql.debug.maxToStringFields'.\n",
      "                                                                                \r"
     ]
    }
   ],
   "source": [
    "listing_df_raw.write.format('jdbc').options(url='jdbc:postgresql://localhost:5432/Final',driver = 'org.postgresql.Driver', dbtable = 'listing', user='postgres',password='kushal2psg').mode('overwrite').save()\n",
    "calendar_df_raw.write.format('jdbc').options(url='jdbc:postgresql://localhost:5432/Final',driver = 'org.postgresql.Driver', dbtable = 'calendar', user='postgres',password='kushal2psg').mode('overwrite').save()\n",
    "reviews_df_raw.write.format('jdbc').options(url='jdbc:postgresql://localhost:5432/Final',driver = 'org.postgresql.Driver', dbtable = 'reviews', user='postgres',password='kushal2psg').mode('overwrite').save()"
   ]
  }
 ],
 "metadata": {
  "kernelspec": {
   "display_name": "venv",
   "language": "python",
   "name": "python3"
  },
  "language_info": {
   "codemirror_mode": {
    "name": "ipython",
    "version": 3
   },
   "file_extension": ".py",
   "mimetype": "text/x-python",
   "name": "python",
   "nbconvert_exporter": "python",
   "pygments_lexer": "ipython3",
   "version": "3.10.12"
  },
  "orig_nbformat": 4
 },
 "nbformat": 4,
 "nbformat_minor": 2
}
