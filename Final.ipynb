{
 "cells": [
  {
   "cell_type": "code",
   "execution_count": 38,
   "metadata": {},
   "outputs": [],
   "source": [
    "import yaml\n",
    "from pyspark.sql import SparkSession\n",
    "from pyspark.sql.functions import when, col, regexp_replace, udf, col, count, expr, row_number, regexp_replace, when, corr\n",
    "from pyspark.sql.types import IntegerType, StringType, DoubleType\n",
    "from textblob import TextBlob\n",
    "from pyspark.ml.feature import MinMaxScaler, VectorAssembler\n",
    "from pyspark.sql.window import Window\n",
    "import matplotlib.pyplot as plt\n",
    "import pandas as pd"
   ]
  },
  {
   "cell_type": "code",
   "execution_count": 39,
   "metadata": {},
   "outputs": [],
   "source": [
    "# Initialize a Spark session\n",
    "spark = SparkSession.builder.appName(\"DataTransformation\")\\\n",
    "    .config('spark.driver.extraClassPath','/usr/lib/jvm/java-11-openjdk-amd64/lib/postgresql-42.5.0.jar')\\\n",
    "        .getOrCreate()"
   ]
  },
  {
   "cell_type": "code",
   "execution_count": 40,
   "metadata": {},
   "outputs": [],
   "source": [
    "# Define the path to your YAML file\n",
    "yaml_file_path = 'config.yaml'\n",
    "\n",
    "# Read the YAML file and parse it into a Python dictionary\n",
    "with open(yaml_file_path, 'r') as yaml_file:\n",
    "    config = yaml.safe_load(yaml_file)"
   ]
  },
  {
   "cell_type": "code",
   "execution_count": 41,
   "metadata": {},
   "outputs": [
    {
     "name": "stderr",
     "output_type": "stream",
     "text": [
      "                                                                                \r"
     ]
    }
   ],
   "source": [
    "listing_df_raw = spark.read.csv('raw_data/listings.tsv', header=True, inferSchema=True, sep=\"\\t\")\n",
    "reviews_df_raw = spark.read.csv('raw_data/reviews.tsv', header=True, inferSchema=True, sep=\"\\t\")\n",
    "calendar_df_raw = spark.read.csv('raw_data/calendar.tsv', header=True, inferSchema=True,sep=\"\\t\")"
   ]
  },
  {
   "cell_type": "code",
   "execution_count": 42,
   "metadata": {},
   "outputs": [],
   "source": [
    "# Data Cleaning\n",
    "listing_df_raw = listing_df_raw.drop('summary')\n",
    "listing_df_raw = listing_df_raw.drop('description')\n",
    "listing_df_raw = listing_df_raw.drop('host_about')\n",
    "\n",
    "listing_df_raw = listing_df_raw.withColumn('host_is_superhost', when(col('host_is_superhost') == 't', True).otherwise(False))\n",
    "listing_df_raw = listing_df_raw.drop('country', 'market')\n",
    "listing_df_raw = listing_df_raw.na.drop(subset=['space'])\n",
    "listing_df_raw = listing_df_raw.na.drop(subset=['property_type'])\n",
    "listing_df_raw = listing_df_raw.withColumn(\"price\", regexp_replace(col(\"price\"), \"[^0-9]\", \"\").cast(IntegerType()))\n",
    "listing_df_raw = listing_df_raw.withColumn(\"host_response_rate\", regexp_replace(col(\"host_response_rate\"), \"%\", \"\").cast(\"int\"))\n",
    "\n",
    "for column in listing_df_raw.columns:\n",
    "    listing_df_raw = listing_df_raw.withColumn(column, regexp_replace(col(column), ',', '')) \n",
    "\n",
    "calendar_df_raw = calendar_df_raw.withColumn('available', when(col('available') == 't', True).otherwise(False))\n",
    "calendar_df_raw = calendar_df_raw.withColumn(\"price\", regexp_replace(col(\"price\"), \"[^0-9]\", \"\").cast(IntegerType()))"
   ]
  },
  {
   "cell_type": "code",
   "execution_count": 43,
   "metadata": {},
   "outputs": [
    {
     "name": "stderr",
     "output_type": "stream",
     "text": [
      "                                                                                \r"
     ]
    }
   ],
   "source": [
    "#saving the data locally in parquet format\n",
    "listing_df_raw.coalesce(4).write.parquet('cleaned_data/clean_listing_parquet', mode=\"overwrite\", compression=\"snappy\")\n",
    "calendar_df_raw.coalesce(4).write.parquet('cleaned_data/clean_calendar_parquet', mode=\"overwrite\", compression=\"snappy\")\n",
    "reviews_df_raw.coalesce(4).write.parquet('cleaned_data/clean_reviews_parquet', mode=\"overwrite\", compression=\"snappy\")"
   ]
  },
  {
   "cell_type": "code",
   "execution_count": 44,
   "metadata": {},
   "outputs": [
    {
     "name": "stderr",
     "output_type": "stream",
     "text": [
      "                                                                                \r"
     ]
    }
   ],
   "source": [
    "#load data to postgres\n",
    "\n",
    "listing_df_raw.write.format('jdbc').options(url='jdbc:postgresql://localhost:5432/Final',driver = 'org.postgresql.Driver', dbtable = 'listing', user=config['postgres'][\"user\"],password=config['postgres'][\"password\"] ).mode('overwrite').save()\n",
    "calendar_df_raw.write.format('jdbc').options(url='jdbc:postgresql://localhost:5432/Final',driver = 'org.postgresql.Driver', dbtable = 'calendar', user=config['postgres'][\"user\"],password=config['postgres'][\"password\"] ).mode('overwrite').save()\n",
    "reviews_df_raw.write.format('jdbc').options(url='jdbc:postgresql://localhost:5432/Final',driver = 'org.postgresql.Driver', dbtable = 'reviews', user=config['postgres'][\"user\"],password=config['postgres'][\"password\"] ).mode('overwrite').save()"
   ]
  },
  {
   "cell_type": "code",
   "execution_count": 45,
   "metadata": {},
   "outputs": [],
   "source": [
    "#reading the file back from postgres\n",
    "listing_df = spark.read.format('jdbc').options(url='jdbc:postgresql://localhost:5432/Final',driver = 'org.postgresql.Driver', dbtable = 'listing', user=config['postgres'][\"user\"],password=config['postgres'][\"password\"]).load()\n",
    "calendar_df = spark.read.format('jdbc').options(url='jdbc:postgresql://localhost:5432/Final',driver = 'org.postgresql.Driver', dbtable = 'calendar', user=config['postgres'][\"user\"],password=config['postgres'][\"password\"]).load()\n",
    "reviews_df = spark.read.format('jdbc').options(url='jdbc:postgresql://localhost:5432/Final',driver = 'org.postgresql.Driver', dbtable = 'reviews', user=config['postgres'][\"user\"],password=config['postgres'][\"password\"]).load()"
   ]
  },
  {
   "cell_type": "markdown",
   "metadata": {},
   "source": [
    "## Task 1 Get Distinct Street names and it's best listing based on analysis of price, reviews and booking. Give the budget oriented results and luxury oriented results"
   ]
  },
  {
   "cell_type": "code",
   "execution_count": 54,
   "metadata": {},
   "outputs": [
    {
     "name": "stderr",
     "output_type": "stream",
     "text": [
      "                                                                                \r"
     ]
    },
    {
     "name": "stdout",
     "output_type": "stream",
     "text": [
      "Sorted on the basis of budget:\n"
     ]
    },
    {
     "name": "stderr",
     "output_type": "stream",
     "text": [
      "                                                                                \r"
     ]
    },
    {
     "name": "stdout",
     "output_type": "stream",
     "text": [
      "+--------+--------------------+--------------------+-------------+-----+------------------+--------+\n",
      "|      id|                name|              street|property_type|price|      Overal_score|position|\n",
      "+--------+--------------------+--------------------+-------------+-----+------------------+--------+\n",
      "| 8454985|Modern Navy Yard ...|13th St Charlesto...|    Apartment|22500|10.844573745922595|       1|\n",
      "| 2167993|Boston Waterfront...|13th Street Bosto...|    Apartment|14900|10.739037291721766|       1|\n",
      "|12915510|It's always more ...|13th Street Bosto...|         Boat|22900|10.474874371859297|       2|\n",
      "| 5684598|Navy Yard Condo o...|1st Avenue Boston...|    Apartment|19900|10.755514414176144|       1|\n",
      "| 5481243|Private room in B...|1st Avenue Charle...|  Condominium|15000|10.783893149960328|       1|\n",
      "| 4532603|Heart of Boston -...|A Garden St Bosto...|    Apartment|22900| 10.59241823150842|       1|\n",
      "|14536322|Victorian Garden ...|A Mount Auburn St...|        House| 8500|10.924402715331041|       1|\n",
      "| 7225201|Master bed/bath i...|A St Boston MA 02...|         Loft|17000|10.624869963854358|       1|\n",
      "|14843783|2 Bedroom Seaport...|A Street Boston M...|    Apartment|34900|10.804945781539276|       1|\n",
      "| 2384107|Penthouse Level w...|A Street Boston M...|    Apartment|35000|10.802433218725206|       2|\n",
      "| 2564544|Vacation Business...|A Street Boston M...|    Apartment|17900|10.656642863440007|       3|\n",
      "| 8828147|Crash in a lux hi...|A Street Boston M...|    Apartment|15900|10.654262540774047|       4|\n",
      "| 8827268|Views Amenities L...|A Street Boston M...|    Apartment|20000|10.547738693467338|       5|\n",
      "| 7134081|Made in Fort Poin...|A Street Boston M...|  Condominium|39000|10.119474565811514|       6|\n",
      "| 3363097|Modern Apt in Sea...|A Street Boston M...|    Apartment|40000| 10.10136648153046|       7|\n",
      "| 6843850|Boston Penthouse ...|A Street Boston M...|    Apartment|50000| 9.815022480825178|       8|\n",
      "|10186477|Cozy Private Room...|Aberdeen Street B...|    Apartment| 5000|11.564973992770872|       1|\n",
      "| 9845039|Cozy 1-Bedroom in...|Aberdeen Street B...|    Apartment|10000|11.439345852067355|       2|\n",
      "| 2014882|2 Bedrooms with 1...|Academy Hill Rd B...|        House| 7000|10.972617473331571|       1|\n",
      "|14710769|Need a place to c...|Adams Street Bost...|    Apartment| 6000|10.901251873402098|       1|\n",
      "+--------+--------------------+--------------------+-------------+-----+------------------+--------+\n",
      "only showing top 20 rows\n",
      "\n",
      "Sorted on the basis of luxury\n"
     ]
    },
    {
     "name": "stderr",
     "output_type": "stream",
     "text": [
      "[Stage 152:>                                                        (0 + 1) / 1]\r"
     ]
    },
    {
     "name": "stdout",
     "output_type": "stream",
     "text": [
      "+--------+--------------------+--------------------+-------------+-----+------------------+--------+\n",
      "|      id|                name|              street|property_type|price|      Overal_score|position|\n",
      "+--------+--------------------+--------------------+-------------+-----+------------------+--------+\n",
      "| 8454985|Modern Navy Yard ...|13th St Charlesto...|    Apartment|22500|1.4111566604954597|       1|\n",
      "| 2167993|Boston Waterfront...|13th Street Bosto...|    Apartment|14900|1.0955699550383495|       1|\n",
      "|12915510|It's always more ...|13th Street Bosto...|         Boat|22900|1.0525125628140704|       2|\n",
      "| 5684598|Navy Yard Condo o...|1st Avenue Boston...|    Apartment|19900| 1.250238032266596|       1|\n",
      "| 5481243|Private room in B...|1st Avenue Charle...|  Condominium|15000|1.1431896323723882|       1|\n",
      "| 4532603|Heart of Boston -...|A Garden St Bosto...|    Apartment|22900| 1.170056422463193|       1|\n",
      "|14536322|Victorian Garden ...|A Mount Auburn St...|        House| 8500|1.1040509565370713|       1|\n",
      "| 7225201|Master bed/bath i...|A St Boston MA 02...|         Loft|17000|1.0394428281759676|       1|\n",
      "| 2384107|Penthouse Level w...|A Street Boston M...|    Apartment|35000|1.7144935202327427|       1|\n",
      "|14843783|2 Bedroom Seaport...|A Street Boston M...|    Apartment|34900|1.7142422639513355|       2|\n",
      "| 3363097|Modern Apt in Sea...|A Street Boston M...|    Apartment|40000|1.1516177378118664|       3|\n",
      "| 7134081|Made in Fort Poin...|A Street Boston M...|  Condominium|39000|1.1420876311381467|       4|\n",
      "| 6843850|Boston Penthouse ...|A Street Boston M...|    Apartment|50000|1.1416556466543244|       5|\n",
      "| 2564544|Vacation Business...|A Street Boston M...|    Apartment|17900|1.0960900996209115|       6|\n",
      "| 8827268|Views Amenities L...|A Street Boston M...|    Apartment|20000|1.0452261306532664|       7|\n",
      "| 8828147|Crash in a lux hi...|A Street Boston M...|    Apartment|15900|1.0384333950454026|       8|\n",
      "| 9845039|Cozy 1-Bedroom in...|Aberdeen Street B...|    Apartment|10000|1.6604513797055453|       1|\n",
      "|10186477|Cozy Private Room...|Aberdeen Street B...|    Apartment| 5000|1.6478885656351936|       2|\n",
      "| 2014882|2 Bedrooms with 1...|Academy Hill Rd B...|        House| 7000|1.1108084281054396|       1|\n",
      "|14710769|Need a place to c...|Adams Street Bost...|    Apartment| 6000|1.0118046372211937|       1|\n",
      "+--------+--------------------+--------------------+-------------+-----+------------------+--------+\n",
      "only showing top 20 rows\n",
      "\n"
     ]
    },
    {
     "name": "stderr",
     "output_type": "stream",
     "text": [
      "                                                                                \r"
     ]
    }
   ],
   "source": [
    "#firstly lets calculate reviews rating by using sentiment analysis\n",
    "# Define a function to perform sentiment analysis using TextBlob\n",
    "def analyze_sentiment(comment):\n",
    "    if comment is not None and isinstance(comment, str):\n",
    "        analysis = TextBlob(comment)\n",
    "        # Classify sentiment as positive, neutral, or negative based on polarity\n",
    "        if analysis.sentiment.polarity > 0:\n",
    "            return \"positive\"\n",
    "        elif analysis.sentiment.polarity == 0:\n",
    "            return \"neutral\"\n",
    "        else:\n",
    "            return \"negative\"\n",
    "    else:\n",
    "        return None\n",
    "    \n",
    "# Register the UDF\n",
    "sentiment_analysis_udf = udf(analyze_sentiment, StringType())\n",
    "\n",
    "# analyze the sentiment of review and keep it under sentiment column in a new df\n",
    "reviews_sentiment = reviews_df.withColumn(\"sentiment\", sentiment_analysis_udf(col(\"comments\")))\n",
    "\n",
    "#returned the count of total postitive reviews got by a listing id\n",
    "reviews_sentiment1 = reviews_sentiment.groupBy(\"listing_id\")\\\n",
    "    .agg(count(col(\"sentiment\")==\"positive\"). alias(\"total_positive_reviews\"), count(\"*\").alias(\"total_reviews_count\"))\n",
    "\n",
    "#added a new column review_rate \n",
    "final_review = reviews_sentiment1\\\n",
    "    .withColumn(\"Review_rate\", col(\"total_positive_reviews\")/col(\"total_reviews_count\"))\n",
    "\n",
    "#dropped irrelevant columns adn now REVIEW DATAFRAME is ready\n",
    "final_review = final_review.drop('total_positive_reviews', 'total_reviews_count')\n",
    "\n",
    "#Now I listed total days each property was booked for from calendar\n",
    "calendar_1 = calendar_df.groupBy(\"listing_id\")\\\n",
    "    .agg(count(expr(\"CASE WHEN available = False THEN 1 ELSE NULL END\")).alias(\"booked_days\"))\n",
    "\n",
    "#we used MinMaxScaler to normalize the data and it expects the input column to be of vector type\n",
    "#thus we convert booked_days to vector format by using VectorAssembler\n",
    "vector_assembler = VectorAssembler(inputCols=[\"booked_days\"], outputCol=\"booked_days_vec\")\n",
    "calendar_1 = vector_assembler.transform(calendar_1)\n",
    "\n",
    "#normalization is done here. MinMaxScaler normalizes the values from 1 to 0\n",
    "scaler = MinMaxScaler(inputCol=\"booked_days_vec\", outputCol=\"normalized_booked_days\")\n",
    "\n",
    "scaler_model = scaler.fit(calendar_1)\n",
    "normalized_calendar = scaler_model.transform(calendar_1)\n",
    "\n",
    "#creating a function to convert vector type to double type\n",
    "unlist = udf(lambda x: float(list(x)[0]), DoubleType())\n",
    "\n",
    "#adding new column returned as normalized value in regular double form\n",
    "normalized_calendar = normalized_calendar.withColumn(\"nbd_new\", unlist(\"normalized_booked_days\"))\n",
    "\n",
    "#defining final calendar dataframe where we have listing_id and booked days\n",
    "final_calendar = normalized_calendar.select(\"listing_id\", col(\"nbd_new\").alias(\"booked_days\"))\n",
    "\n",
    "#now for the final dataframe\n",
    "listing1 = listing_df.select(\"id\", \"name\", \"street\", \"property_type\", \"price\")\n",
    "listing1 = listing1.withColumn(\"price\", col(\"price\").cast(\"int\"))\n",
    "\n",
    "#converting the price to vector form for normalization\n",
    "vector_assembler1 = VectorAssembler(inputCols=[\"price\"], outputCol=\"price_vec\")\n",
    "listing1 = vector_assembler1.transform(listing1)\n",
    "\n",
    "#normalizing the value to fall between range of 0 and 1\n",
    "scaler1 = MinMaxScaler(inputCol=\"price_vec\", outputCol=\"lux_price_vec\")\n",
    "\n",
    "scaler_model1 = scaler1.fit(listing1)\n",
    "normalized_listing = scaler_model1.transform(listing1)\n",
    "\n",
    "#converting vector type back to double using the unlist function\n",
    "normalized_listing = normalized_listing.withColumn(\"lux_price\", unlist(\"lux_price_vec\"))\n",
    "\n",
    "#dropping irrelevant columns\n",
    "normalized_listing = normalized_listing.drop('price_vec', 'lux_price_vec')\n",
    "\n",
    "#creating a new column with a new metric budget price which is luxury price subtracted from 1\n",
    "final_listing = normalized_listing.withColumn(\"bud_price\", 1-col(\"lux_price\"))\n",
    "\n",
    "#joining 2 of the 3 dataframes we have\n",
    "#I preffered inner join as that would optimize resources considerably\n",
    "ini_join = final_review.join(final_calendar, \"listing_id\")\n",
    "\n",
    "#now joining the remaining dataframe\n",
    "final_join = final_listing.join(ini_join, final_listing[\"id\"] == ini_join[\"listing_id\"])\n",
    "\n",
    "#dropping redundant columns\n",
    "final_join = final_join.drop('listing_id')\n",
    "\n",
    "#calculating overall score based on the budget price\n",
    "final_join_bud = final_join.withColumn(\"Overal_score\", (10*col(\"bud_price\"))+col(\"Review_rate\")+col(\"booked_days\"))\n",
    "final_join_bud1 = final_join_bud.drop('lux_price', 'bud_price', 'Review_rate', 'booked_days')\n",
    "#partitioning by street name and sorting by decreasing order of the overall score\n",
    "windowSpec = Window.partitionBy(\"street\").orderBy(col(\"Overal_score\").desc())\n",
    "\n",
    "#implementing window functon\n",
    "final_join_bud2 = final_join_bud1.withColumn(\"position\", row_number().over(windowSpec))\n",
    "\n",
    "#calculating overall score based on the luxury price\n",
    "final_join_lux = final_join.withColumn(\"Overal_score\", col(\"lux_price\")+col(\"Review_rate\")+col(\"booked_days\"))\n",
    "\n",
    "#dropping irrelevant columns\n",
    "final_join_lux1 = final_join_lux.drop('lux_price', 'bud_price', 'Review_rate', 'booked_days')\n",
    "\n",
    "#implementing window function\n",
    "final_join_lux2 = final_join_lux1.withColumn(\"position\", row_number().over(windowSpec))\n",
    "\n",
    "#displaying results\n",
    "print(\"Sorted on the basis of budget:\")\n",
    "final_join_bud2.show()\n",
    "print(\"Sorted on the basis of luxury\")\n",
    "final_join_lux2.show()\n",
    "\n",
    "#pushing the results back to a new database in postgres\n",
    "final_join_lux2.write.format('jdbc').options(url='jdbc:postgresql://localhost:5432/Result',driver = 'org.postgresql.Driver', dbtable = 'luxury_results', user=config['postgres'][\"user\"],password=config['postgres'][\"password\"]).mode('overwrite').save()\n",
    "final_join_bud2.write.format('jdbc').options(url='jdbc:postgresql://localhost:5432/Result',driver = 'org.postgresql.Driver', dbtable = 'budget_results', user=config['postgres'][\"user\"],password=config['postgres'][\"password\"]).mode('overwrite').save()"
   ]
  },
  {
   "cell_type": "markdown",
   "metadata": {},
   "source": [
    "## Task 2: Analyze the impact of host response time on guest satisfaction. Correlate faster response time with higher review scores. Determine if host with high turnover consistently provide quicker response."
   ]
  },
  {
   "cell_type": "code",
   "execution_count": 61,
   "metadata": {},
   "outputs": [
    {
     "name": "stdout",
     "output_type": "stream",
     "text": [
      "Table that shows response time score and reviews:\n"
     ]
    },
    {
     "name": "stderr",
     "output_type": "stream",
     "text": [
      "                                                                                \r"
     ]
    },
    {
     "name": "stdout",
     "output_type": "stream",
     "text": [
      "+--------+--------------+-----------+\n",
      "|      id|response_score|Review_rate|\n",
      "+--------+--------------+-----------+\n",
      "|10036037|           294|        1.0|\n",
      "|14219033|           400|        1.0|\n",
      "| 7825327|           400|        1.0|\n",
      "| 2754975|           400|        1.0|\n",
      "| 6911945|           300|        1.0|\n",
      "| 3068453|           282|        1.0|\n",
      "| 8036024|           400|        1.0|\n",
      "| 1615033|           400|        1.0|\n",
      "| 4149974|           400|        1.0|\n",
      "| 8303267|           300|        1.0|\n",
      "| 1912940|           300|        1.0|\n",
      "| 8310653|          null|        1.0|\n",
      "| 8822499|           270|        1.0|\n",
      "| 3873776|            14|        1.0|\n",
      "|13251243|           400|        1.0|\n",
      "|  197972|           400|        1.0|\n",
      "|13602808|           400|        1.0|\n",
      "|  321328|           120|        1.0|\n",
      "| 8814215|           400|        1.0|\n",
      "| 6596242|           300|        1.0|\n",
      "+--------+--------------+-----------+\n",
      "only showing top 20 rows\n",
      "\n"
     ]
    },
    {
     "name": "stderr",
     "output_type": "stream",
     "text": [
      "                                                                                \r"
     ]
    },
    {
     "name": "stdout",
     "output_type": "stream",
     "text": [
      "Correlation Coefficient: 0.006623173825858055\n",
      "The key takeaway from this is that, apart from response score other factors affect the review rate as well. Such as cleaniness, price point, amneties, etc.\n"
     ]
    },
    {
     "name": "stderr",
     "output_type": "stream",
     "text": [
      "                                                                                \r"
     ]
    },
    {
     "data": {
      "image/png": "[encoded data removed]",
      "text/plain": [
       "<Figure size 640x480 with 1 Axes>"
      ]
     },
     "metadata": {},
     "output_type": "display_data"
    },
    {
     "name": "stdout",
     "output_type": "stream",
     "text": [
      "Table that shows total turnover and response score for each listing\n"
     ]
    },
    {
     "name": "stderr",
     "output_type": "stream",
     "text": [
      "                                                                                \r"
     ]
    },
    {
     "name": "stdout",
     "output_type": "stream",
     "text": [
      "+--------+--------------+--------------+\n",
      "|      id|total_turnover|response_score|\n",
      "+--------+--------------+--------------+\n",
      "| 1628130|      27375000|           300|\n",
      "| 3351728|      23347500|           300|\n",
      "| 7982359|      22009500|           288|\n",
      "| 6598203|      22009500|           288|\n",
      "|13378987|      21900000|           400|\n",
      "| 6197950|      21900000|          null|\n",
      "| 3415245|      21515000|           400|\n",
      "|13216268|      17600000|           300|\n",
      "| 6444138|      16823700|           288|\n",
      "| 9327506|      16425000|           300|\n",
      "| 3808557|      16425000|          null|\n",
      "| 7618925|      15875000|           300|\n",
      "|13744821|      14560000|           320|\n",
      "| 9709597|      14280000|          null|\n",
      "| 2592416|      13850000|           120|\n",
      "|11906382|      13687500|           300|\n",
      "| 7434871|      13634800|           400|\n",
      "| 5088560|      13200000|           400|\n",
      "| 5919529|      13145000|           300|\n",
      "| 5856633|      12775000|          null|\n",
      "+--------+--------------+--------------+\n",
      "only showing top 20 rows\n",
      "\n"
     ]
    },
    {
     "name": "stderr",
     "output_type": "stream",
     "text": [
      "                                                                                \r"
     ]
    },
    {
     "data": {
      "image/png": "[encoded data removed]",
      "text/plain": [
       "<Figure size 640x480 with 1 Axes>"
      ]
     },
     "metadata": {},
     "output_type": "display_data"
    },
    {
     "name": "stderr",
     "output_type": "stream",
     "text": [
      "                                                                                \r"
     ]
    }
   ],
   "source": [
    "listing_df = listing_df.withColumn(\"host_response_rate\", col(\"host_response_rate\").cast(\"int\"))\n",
    "listing_df1 = listing_df.withColumn(\"host_response_time\",\n",
    "                                    when(col(\"host_response_time\") == \"within an hour\", 4)\\\n",
    "                                        .when(col(\"host_response_time\") == \"within a few hours\", 3)\\\n",
    "                                            .when(col(\"host_response_time\") == \"within a day\", 2)\\\n",
    "                                                .when(col(\"host_response_time\") == \"a few days or more\", 1)\\\n",
    "                                                    .otherwise(0))\n",
    "#selecting only the relevant columns to calculate response score\n",
    "listing_df2 = listing_df1.select(\"id\", \"host_response_time\", \"host_response_rate\")\n",
    "\n",
    "#creating new column by multiplying the given metrics\n",
    "listing_df2 = listing_df2.withColumn(\"response_score\", col(\"host_response_time\")*col(\"host_response_rate\"))\n",
    "#removing irrelevant columns\n",
    "listing_df2 = listing_df2.drop('host_response_time', 'host_response_rate')\n",
    "\n",
    "#joining the table further to perform analysis\n",
    "final_rr = listing_df2.join(final_review, listing_df2[\"id\"] == final_review[\"listing_id\"])\n",
    "\n",
    "#dropping redundant column\n",
    "final_rr = final_rr.drop('listing_id')\n",
    "\n",
    "print(\"Table that shows response time score and reviews:\")\n",
    "final_rr.show()\n",
    "\n",
    "#finding the correlation between response score and review rate\n",
    "correlation_coefficient = final_rr.select(corr(\"response_score\", \"Review_rate\")).collect()[0][0]\n",
    "print(\"Correlation Coefficient:\", correlation_coefficient)\n",
    "\n",
    "print(\"The key takeaway from this is that, apart from response score other factors affect the review rate as well. Such as cleaniness, price point, amneties, etc.\")\n",
    "\n",
    "#to plot the response score and review rate we use matplotlib. Thus we convert the spark df to pandas df\n",
    "pandas_df = final_rr.select(\"response_score\", \"Review_rate\").toPandas()\n",
    "\n",
    "plt.scatter(pandas_df[\"response_score\"], pandas_df[\"Review_rate\"])\n",
    "plt.xlabel(\"response score\")\n",
    "plt.ylabel(\"review rate\")\n",
    "plt.title(\"Scatter Plot of response score vs. review rate\")\n",
    "plt.show()\n",
    "\n",
    "#dropping irrelevant columns\n",
    "calendar_2 = calendar_1.drop('booked_days_vec')\n",
    "list1 = listing_df.withColumn('price', col(\"price\").cast(\"int\"))\n",
    "#performing initial join\n",
    "ini_rr = list1.join(final_rr, \"id\").select(\"id\", \"response_score\", \"price\")\n",
    "\n",
    "#joining remaining final table\n",
    "fin_rr = ini_rr.join(calendar_2, ini_rr[\"id\"] == calendar_2[\"listing_id\"]).select(\"id\", \"response_score\", \"price\", \"booked_days\")\n",
    "\n",
    "#calculate total turnover\n",
    "fin_rr = fin_rr.withColumn(\"total_turnover\", col(\"price\")*col(\"booked_days\"))\n",
    "\n",
    "#selecting only the relevant columns\n",
    "vis = fin_rr.select(\"id\", \"total_turnover\", \"response_score\")\n",
    "\n",
    "vis = vis.orderBy(col(\"total_turnover\").desc(), col(\"response_score\").desc())\n",
    "\n",
    "\n",
    "\n",
    "print(\"Table that shows total turnover and response score for each listing\")\n",
    "vis.show()\n",
    "\n",
    "pandas_df1 = vis.select(\"total_turnover\", \"response_score\").toPandas()\n",
    "plt.scatter(pandas_df1[\"total_turnover\"], pandas_df1[\"response_score\"])\n",
    "plt.xlabel(\"total_turnover\")\n",
    "plt.ylabel(\"response_score\")\n",
    "plt.title(\"Scatter plot of total turnover vs response score\")\n",
    "plt.show()\n",
    "\n",
    "#pushing the results back to a new database in postgres\n",
    "final_rr.write.format('jdbc').options(url='jdbc:postgresql://localhost:5432/Result',driver = 'org.postgresql.Driver', dbtable = 'response_review', user=config['postgres'][\"user\"],password=config['postgres'][\"password\"]).mode('overwrite').save()\n",
    "vis.write.format('jdbc').options(url='jdbc:postgresql://localhost:5432/Result',driver = 'org.postgresql.Driver', dbtable = 'vis_rr_turnover', user=config['postgres'][\"user\"],password=config['postgres'][\"password\"]).mode('overwrite').save()"
   ]
  }
 ],
 "metadata": {
  "kernelspec": {
   "display_name": "venv",
   "language": "python",
   "name": "python3"
  },
  "language_info": {
   "codemirror_mode": {
    "name": "ipython",
    "version": 3
   },
   "file_extension": ".py",
   "mimetype": "text/x-python",
   "name": "python",
   "nbconvert_exporter": "python",
   "pygments_lexer": "ipython3",
   "version": "3.10.12"
  },
  "orig_nbformat": 4
 },
 "nbformat": 4,
 "nbformat_minor": 2
}
